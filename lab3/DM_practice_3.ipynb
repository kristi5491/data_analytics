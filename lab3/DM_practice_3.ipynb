{
  "cells": [
    {
      "cell_type": "markdown",
      "metadata": {
        "id": "0k_GncttFw0b"
      },
      "source": [
        "# **Лабораторна робота 3**\n",
        "\n",
        "Для виконання цієї лабораторної робити Вам необхідно використати набори даних, що ви створили в **Лабораторній роботі 2**.\n",
        "\n",
        "**Всі завдання виконуються індивідуально. Використання запозиченого коду буде оцінюватись в 0 балів.**"
      ]
    },
    {
      "cell_type": "markdown",
      "metadata": {
        "id": "9D-HOiM_-ZCw"
      },
      "source": [
        "**Завдання 1.** Ви маєте набір даних, який складається з двох лінійно роздільних класів. Вам необхідно застосувати під цей набір даних мінімум **3  моледі машинного навчання** для класифікації цих даних та оцінити їх продуктивність.\n",
        "\n",
        "**Пояснення до завдання 1:**\n",
        "\n",
        "- обрати 3 моделі для класифікації даних та навчити їх;\n",
        "- оцінити їх продуктивність за допомогою трьох метрик точності;\n",
        "- візуалізувати розподіл даних та межі класифікації кожної моделі;\n",
        "- провести аналіз отриманих результатів, виявляючи, яка модель найкраще підходить для цього набору даних та чому."
      ]
    },
    {
      "cell_type": "code",
      "execution_count": 1,
      "metadata": {
        "id": "tbFTHCQe9lTJ"
      },
      "outputs": [],
      "source": [
        "import numpy as np\n",
        "import pandas as pd\n",
        "import matplotlib.pyplot as plt"
      ]
    },
    {
      "cell_type": "code",
      "execution_count": null,
      "metadata": {
        "id": "CsOFU24BAOVh"
      },
      "outputs": [],
      "source": [
        "# code"
      ]
    },
    {
      "cell_type": "code",
      "execution_count": null,
      "metadata": {
        "id": "6ZWvPq6qAONU"
      },
      "outputs": [],
      "source": [
        "# code"
      ]
    },
    {
      "cell_type": "code",
      "execution_count": null,
      "metadata": {
        "id": "cH97WM3pAOEo"
      },
      "outputs": [],
      "source": [
        "# code"
      ]
    },
    {
      "cell_type": "code",
      "execution_count": null,
      "metadata": {
        "id": "rfmmXSzsAN7T"
      },
      "outputs": [],
      "source": [
        "# code"
      ]
    },
    {
      "cell_type": "code",
      "execution_count": null,
      "metadata": {
        "id": "mJLo0EI1ANvx"
      },
      "outputs": [],
      "source": [
        "# code"
      ]
    },
    {
      "cell_type": "markdown",
      "metadata": {
        "id": "OSw6McHxAPpc"
      },
      "source": [
        "**Аналіз отриманих результатів**:\n",
        "\n",
        "1.   ...\n",
        "2.   ...\n",
        "3.   ...  \n",
        "\n"
      ]
    },
    {
      "cell_type": "markdown",
      "metadata": {
        "id": "p_jATNGCA01l"
      },
      "source": [
        "**Завдання 2.** Ви маєте набір даних, що містить три класи, які частково перетинаються. Вам необхідно застосувати під цей набір даних мінімум **3  моледі машинного навчання** для класифікації цих даних та оцінити їх продуктивність.\n",
        "\n",
        "**Пояснення до завдання 2:**\n",
        "\n",
        "- обрати 3 моделі для класифікації даних та навчити їх;\n",
        "- оцінити їх продуктивність за допомогою трьох метрик точності;\n",
        "- провести візуалізацію результатів класифікації, підкреслюючи області, де моделі помиляються.\n",
        "- подумайте та опишіть у висновках, як перекриття між класами впливає на продуктивність моделей і які методи найкраще справляються з цими даними.\n"
      ]
    },
    {
      "cell_type": "code",
      "execution_count": null,
      "metadata": {
        "id": "3RwMmg-wAo2r"
      },
      "outputs": [],
      "source": [
        "# code"
      ]
    },
    {
      "cell_type": "code",
      "execution_count": null,
      "metadata": {
        "id": "HTiq_-NqBn-1"
      },
      "outputs": [],
      "source": [
        "# code"
      ]
    },
    {
      "cell_type": "code",
      "execution_count": null,
      "metadata": {
        "id": "vc0STKi4Bn4R"
      },
      "outputs": [],
      "source": [
        "# code"
      ]
    },
    {
      "cell_type": "code",
      "execution_count": null,
      "metadata": {
        "id": "yLQ_dN9mBnwT"
      },
      "outputs": [],
      "source": [
        "# code"
      ]
    },
    {
      "cell_type": "code",
      "execution_count": null,
      "metadata": {
        "id": "NlrtuKbIBnjy"
      },
      "outputs": [],
      "source": [
        "# code"
      ]
    },
    {
      "cell_type": "markdown",
      "metadata": {
        "id": "12CGT7aBBteY"
      },
      "source": [
        "**Аналіз отриманих результатів**:\n",
        "\n",
        "1.   ...\n",
        "2.   ...\n",
        "3.   ...  \n",
        "\n"
      ]
    },
    {
      "cell_type": "markdown",
      "metadata": {
        "id": "2ad2fOD6CLWj"
      },
      "source": [
        "**Завдання 3.** Ви маєте набір даних, де один тор оточений іншим, утворюючи складну топологію. Вам необхідно застосувати під цей набір даних мінімум **3  моледі машинного навчання** для класифікації цих даних та оцінити їх продуктивність.\n",
        "\n",
        "**Пояснення до завдання 3:**\n",
        "\n",
        "- обрати 3 моделі для класифікації даних та навчити їх;\n",
        "- оцінити їх продуктивність за допомогою трьох метрик точності;\n",
        "- побудувати візуалізацію результатів класифікації;\n",
        "- проаналізувати, яка модель найкраще адаптується до складної топології даних і чому."
      ]
    },
    {
      "cell_type": "code",
      "execution_count": null,
      "metadata": {
        "id": "y1fwddAMBxEK"
      },
      "outputs": [],
      "source": [
        "# code"
      ]
    },
    {
      "cell_type": "code",
      "execution_count": null,
      "metadata": {
        "id": "wZ7zfI6ZC457"
      },
      "outputs": [],
      "source": [
        "# code"
      ]
    },
    {
      "cell_type": "code",
      "execution_count": null,
      "metadata": {
        "id": "80OZX6OVC4wt"
      },
      "outputs": [],
      "source": [
        "# code"
      ]
    },
    {
      "cell_type": "code",
      "execution_count": null,
      "metadata": {
        "id": "C0XnJaU9C4o6"
      },
      "outputs": [],
      "source": [
        "# code"
      ]
    },
    {
      "cell_type": "code",
      "execution_count": null,
      "metadata": {
        "id": "VnuTkiJfC4gx"
      },
      "outputs": [],
      "source": [
        "# code"
      ]
    },
    {
      "cell_type": "markdown",
      "metadata": {
        "id": "egcENYqYC-AR"
      },
      "source": [
        "**Аналіз отриманих результатів**:\n",
        "\n",
        "1.   ...\n",
        "2.   ...\n",
        "3.   ...  "
      ]
    },
    {
      "cell_type": "markdown",
      "metadata": {
        "id": "xvSSTyYMDKUm"
      },
      "source": [
        "**Завдання 4.** Ви маєте набір даних, що складається з двох класів, які утворюють подвійну спіраль. Вам необхідно застосувати під цей набір даних мінімум **3  моледі машинного навчання** для класифікації цих даних та оцінити їх продуктивність.\n",
        "\n",
        "**Пояснення до завдання 4:**\n",
        "\n",
        "- обрати 3 моделі для класифікації даних та навчити їх;\n",
        "- оцінити їх продуктивність за допомогою трьох метрик точності;\n",
        "- візуалізувати дані та межі класифікації кожної моделі для оцінки їх ефективності.\n",
        "- подумайте та напишіть у висновках, яка модель найкраще підходить для цього типу даних і як нелінійність впливає на процес класифікації."
      ]
    },
    {
      "cell_type": "code",
      "execution_count": null,
      "metadata": {
        "id": "DDJDM9ptFiTI"
      },
      "outputs": [],
      "source": [
        "# code"
      ]
    },
    {
      "cell_type": "code",
      "execution_count": null,
      "metadata": {
        "id": "gtkIx0V1FiK5"
      },
      "outputs": [],
      "source": [
        "# code"
      ]
    },
    {
      "cell_type": "code",
      "execution_count": null,
      "metadata": {
        "id": "hRkscmFqFiDl"
      },
      "outputs": [],
      "source": [
        "# code"
      ]
    },
    {
      "cell_type": "code",
      "execution_count": null,
      "metadata": {
        "id": "pGO_nEB8Fh6l"
      },
      "outputs": [],
      "source": [
        "# code"
      ]
    },
    {
      "cell_type": "code",
      "execution_count": null,
      "metadata": {
        "id": "fI7dzPXqC-8b"
      },
      "outputs": [],
      "source": [
        "# code"
      ]
    },
    {
      "cell_type": "markdown",
      "metadata": {
        "id": "XAzIXURHFpOs"
      },
      "source": [
        "**Аналіз отриманих результатів**:\n",
        "\n",
        "1.   ...\n",
        "2.   ...\n",
        "3.   ...  "
      ]
    }
  ],
  "metadata": {
    "colab": {
      "provenance": []
    },
    "kernelspec": {
      "display_name": "Python 3",
      "name": "python3"
    },
    "language_info": {
      "codemirror_mode": {
        "name": "ipython",
        "version": 3
      },
      "file_extension": ".py",
      "mimetype": "text/x-python",
      "name": "python",
      "nbconvert_exporter": "python",
      "pygments_lexer": "ipython3",
      "version": "3.11.6"
    }
  },
  "nbformat": 4,
  "nbformat_minor": 0
}
